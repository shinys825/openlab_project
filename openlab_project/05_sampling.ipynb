{
 "cells": [
  {
   "cell_type": "code",
   "execution_count": 1,
   "metadata": {},
   "outputs": [],
   "source": [
    "import json\n",
    "import shutil\n",
    "import joblib\n",
    "from collections import Counter, defaultdict\n",
    "from pathlib import Path\n",
    "from math import ceil\n",
    "\n",
    "import numpy as np\n",
    "\n",
    "from utils.config import *\n",
    "from utils.utils import *\n",
    "\n",
    "\n",
    "np.random.seed(SEED)"
   ]
  },
  {
   "cell_type": "code",
   "execution_count": 5,
   "metadata": {},
   "outputs": [],
   "source": [
    "dst_artifacts = ROOT_ARTIFACTS / 'clusters'\n",
    "dst_models = dst_artifacts / 'models'\n",
    "dst_results = dst_artifacts / 'results'\n",
    "\n",
    "sampling_rates = {\n",
    "    '0.1': '../path/resize_sample010_train_imgs_path.txt',\n",
    "    '0.25': '../path/resize_sample025_train_imgs_path.txt',\n",
    "    '0.5': '../path/resize_sample050_train_imgs_path.txt',\n",
    "}"
   ]
  },
  {
   "cell_type": "code",
   "execution_count": 7,
   "metadata": {},
   "outputs": [],
   "source": [
    "results_path = list(dst_results.glob('*.json'))\n",
    "for i, result_path in enumerate(results_path):\n",
    "    with open(result_path, 'r') as j:\n",
    "        result = json.load(j)\n",
    "    dir_name = result['dir_name']\n",
    "    s_scores = result['silhouette_scores']\n",
    "    max_score = max(s_scores.values())\n",
    "    K, *_ = [int(k) for k, v in s_scores.items() if v == max_score]\n",
    "    \n",
    "    model_name = Path(dir_name).stem\n",
    "    model_path = dst_models / f'{model_name}_K{K}.joblib'\n",
    "    kmeans = joblib.load(model_path)\n",
    "    \n",
    "    imgs_path = list(Path(dir_name).glob('*.jpg'))\n",
    "    n_imgs = len(imgs_path)\n",
    "    labels = []\n",
    "    imgs_by_labels = defaultdict(list)\n",
    "    for img_path in imgs_path:\n",
    "        img_arr = read_kor_path_img(img_path).flatten().astype(np.float16)\n",
    "        label, *_ = kmeans.predict(img_arr[np.newaxis])\n",
    "        labels.append(label)\n",
    "        imgs_by_labels[label].append(img_path)\n",
    "    \n",
    "    for sampling_rate, dst_samples_path in sampling_rates.items():\n",
    "        sampling_rate = float(sampling_rate)\n",
    "        sample_count = {\n",
    "            label: ceil(count * sampling_rate) for label, count in Counter(labels).items()\n",
    "        }\n",
    "        for label, n_sample in sample_count.items():\n",
    "            imgs_in_label = imgs_by_labels[label]\n",
    "            sample_imgs = np.random.choice(imgs_in_label, n_sample)\n",
    "            with open(dst_samples_path, 'a', encoding='utf-8') as f:\n",
    "                f.writelines([str(x)+'\\n' for x in sample_imgs])"
   ]
  }
 ],
 "metadata": {
  "kernelspec": {
   "display_name": "Python 3.7.9 64-bit",
   "language": "python",
   "name": "python3"
  },
  "language_info": {
   "codemirror_mode": {
    "name": "ipython",
    "version": 3
   },
   "file_extension": ".py",
   "mimetype": "text/x-python",
   "name": "python",
   "nbconvert_exporter": "python",
   "pygments_lexer": "ipython3",
   "version": "3.7.9"
  },
  "orig_nbformat": 4,
  "vscode": {
   "interpreter": {
    "hash": "17793bf86857e08940faab69901cfbfac17fa1a95f24e4dfc70cbec062754ea2"
   }
  }
 },
 "nbformat": 4,
 "nbformat_minor": 2
}
