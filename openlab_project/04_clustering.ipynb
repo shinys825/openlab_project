{
 "cells": [
  {
   "cell_type": "code",
   "execution_count": 97,
   "metadata": {},
   "outputs": [],
   "source": [
    "from pathlib import Path\n",
    "from math import ceil\n",
    "import joblib\n",
    "import json\n",
    "import shutil\n",
    "\n",
    "import numpy as np\n",
    "from sklearn.cluster import MiniBatchKMeans\n",
    "from sklearn.metrics import silhouette_score\n",
    "from tqdm.notebook import tqdm\n",
    "\n",
    "from utils.config import *\n",
    "from utils.utils import *\n",
    "\n",
    "np.random.seed(SEED)"
   ]
  },
  {
   "cell_type": "code",
   "execution_count": 86,
   "metadata": {},
   "outputs": [],
   "source": [
    "with open('../path/resize_train_imgs_path.txt', 'r', encoding='utf-8') as f:\n",
    "    img_paths = f.read().splitlines()\n",
    "\n",
    "dst_artifacts = ROOT_ARTIFACTS / 'clusters'\n",
    "dst_models = dst_artifacts / 'models'\n",
    "dst_results = dst_artifacts / 'results'\n",
    "dst_models.mkdir(parents=True, exist_ok=True)\n",
    "dst_results.mkdir(parents=True, exist_ok=True)\n",
    "\n",
    "K_arr = [3, 5, 7, 9, 11]\n",
    "chunk_size = 500"
   ]
  },
  {
   "cell_type": "code",
   "execution_count": 140,
   "metadata": {},
   "outputs": [],
   "source": [
    "folders = []\n",
    "for folder in Path(ROOT_RESIZE_TRAIN_IMAGES).glob('**'):\n",
    "    imgs = list(folder.glob('*.jpg'))\n",
    "    n_imgs = len(imgs)\n",
    "    if n_imgs > 50:\n",
    "        folders.append(folder)\n",
    "    elif n_imgs > 0 and n_imgs <= 50:\n",
    "        dst_img_dir = str(folder).replace('images', 'images_out_of_samples')\n",
    "        src_label_dir = str(folder).replace('images', 'labels')\n",
    "        dst_label_dir = str(src_label_dir).replace('labels', 'labels_out_of_samples')\n",
    "\n",
    "        Path(dst_img_dir).parent.mkdir(parents=True, exist_ok=True)\n",
    "        Path(dst_label_dir).parent.mkdir(parents=True, exist_ok=True)\n",
    "        shutil.move(str(folder), dst_img_dir)\n",
    "        shutil.move(src_label_dir, dst_label_dir)"
   ]
  },
  {
   "cell_type": "code",
   "execution_count": null,
   "metadata": {},
   "outputs": [],
   "source": [
    "for i, folder in tqdm(enumerate(folders), total=len(folders)):\n",
    "    folder_name = folder.stem\n",
    "    imgs = list(folder.glob('*.jpg'))\n",
    "    n_imgs = len(imgs)\n",
    "    if n_imgs:\n",
    "        img_vectors = np.stack(\n",
    "            [read_kor_path_img(imgs[i]).flatten().astype(np.float16) for i in range(len(imgs))]\n",
    "        )\n",
    "\n",
    "        silhouette_scores = {}\n",
    "        for K in tqdm(K_arr, total=len(K_arr)):\n",
    "            kmeans = MiniBatchKMeans(n_clusters=K, random_state=SEED, batch_size=32)\n",
    "            img_idx_chunks = get_partial_idxs(n_imgs, chunk_size)\n",
    "            \n",
    "            for idx_chunks in img_idx_chunks:\n",
    "                img_chunk = img_vectors[idx_chunks]\n",
    "                kmeans.partial_fit(img_chunk)\n",
    "                \n",
    "            chunk_s_scores = []\n",
    "            weights = []\n",
    "            for idx_chunks in img_idx_chunks:\n",
    "                if len(idx_chunks) > 50:\n",
    "                    img_chunk = img_vectors[idx_chunks]\n",
    "                    s_score = silhouette_score(\n",
    "                        img_chunk,\n",
    "                        kmeans.predict(img_chunk), \n",
    "                        random_state=SEED\n",
    "                    )\n",
    "                    chunk_s_scores.append(s_score)\n",
    "                    weights.append(len(idx_chunks))\n",
    "            chunk_s_score = np.average(chunk_s_scores, weights=weights)\n",
    "            silhouette_scores[K] = chunk_s_score\n",
    "            \n",
    "            dst_kmeans = dst_models / f'{folder_name}_K{K}.joblib'\n",
    "            joblib.dump(kmeans, str(dst_kmeans))\n",
    "\n",
    "        result = {\n",
    "            'dir_name': str(folder),\n",
    "            'silhouette_scores' : silhouette_scores\n",
    "        }\n",
    "        dst_result = dst_results / f'{folder_name}.json'\n",
    "        with open(dst_result, 'w', encoding='utf-8') as j:\n",
    "            json.dump(result, j, indent=4)"
   ]
  }
 ],
 "metadata": {
  "kernelspec": {
   "display_name": "Python 3.7.9 64-bit",
   "language": "python",
   "name": "python3"
  },
  "language_info": {
   "codemirror_mode": {
    "name": "ipython",
    "version": 3
   },
   "file_extension": ".py",
   "mimetype": "text/x-python",
   "name": "python",
   "nbconvert_exporter": "python",
   "pygments_lexer": "ipython3",
   "version": "3.7.9"
  },
  "orig_nbformat": 4,
  "vscode": {
   "interpreter": {
    "hash": "17793bf86857e08940faab69901cfbfac17fa1a95f24e4dfc70cbec062754ea2"
   }
  }
 },
 "nbformat": 4,
 "nbformat_minor": 2
}
