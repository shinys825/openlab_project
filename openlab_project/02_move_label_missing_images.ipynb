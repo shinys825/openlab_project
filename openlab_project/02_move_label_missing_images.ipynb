{
 "cells": [
  {
   "cell_type": "code",
   "execution_count": 13,
   "metadata": {},
   "outputs": [],
   "source": [
    "import os, shutil\n",
    "from pathlib import Path\n",
    "\n",
    "import numpy as np\n",
    "from tqdm.notebook import tqdm"
   ]
  },
  {
   "cell_type": "code",
   "execution_count": 2,
   "metadata": {},
   "outputs": [],
   "source": [
    "img_path_files = [\n",
    "    'resize_train_imgs_path.txt', 'resize_valid_imgs_path.txt', 'resize_test_imgs_path.txt'\n",
    "]\n",
    "\n",
    "for img_file in img_path_files:    \n",
    "    with open(f'../path/{img_file}', 'r', encoding='utf-8') as f:\n",
    "        img_paths = f.read().splitlines()\n",
    "        \n",
    "    missings = []\n",
    "    for img_path in img_paths:\n",
    "        if not os.path.exists(img_path.replace('images', 'labels').replace('.jpg', '.txt')):\n",
    "            missings.append(img_path)\n",
    "    for missing in missings:\n",
    "        dst = missing.replace('images', 'images_out_of_samples')\n",
    "        Path(dst).parent.mkdir(parents=True, exist_ok=True)\n",
    "        shutil.move(missing, dst)"
   ]
  }
 ],
 "metadata": {
  "kernelspec": {
   "display_name": "Python 3.7.9 64-bit",
   "language": "python",
   "name": "python3"
  },
  "language_info": {
   "codemirror_mode": {
    "name": "ipython",
    "version": 3
   },
   "file_extension": ".py",
   "mimetype": "text/x-python",
   "name": "python",
   "nbconvert_exporter": "python",
   "pygments_lexer": "ipython3",
   "version": "3.7.9"
  },
  "orig_nbformat": 4,
  "vscode": {
   "interpreter": {
    "hash": "17793bf86857e08940faab69901cfbfac17fa1a95f24e4dfc70cbec062754ea2"
   }
  }
 },
 "nbformat": 4,
 "nbformat_minor": 2
}
