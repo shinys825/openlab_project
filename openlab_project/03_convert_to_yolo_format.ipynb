{
 "cells": [
  {
   "cell_type": "code",
   "execution_count": 1,
   "metadata": {},
   "outputs": [],
   "source": [
    "import json\n",
    "from pathlib import Path\n",
    "\n",
    "from PIL import Image\n",
    "from tqdm.notebook import tqdm\n",
    "import pandas as pd\n",
    "\n",
    "import imgaug.augmenters as iaa\n",
    "from imgaug.augmentables.bbs import BoundingBoxesOnImage\n",
    "\n",
    "from utils.config import *\n",
    "from utils.utils import *"
   ]
  },
  {
   "cell_type": "code",
   "execution_count": null,
   "metadata": {},
   "outputs": [],
   "source": [
    "with open('./path/train_imgs_path.txt', 'r', encoding='utf-8') as f:\n",
    "    train_imgs_path = f.read().splitlines()\n",
    "with open('./path/valid_imgs_path.txt', 'r', encoding='utf-8') as f:\n",
    "    valid_imgs_path = f.read().splitlines()\n",
    "with open('./path/test_imgs_path.txt', 'r', encoding='utf-8') as f:\n",
    "    test_imgs_path = f.read().splitlines()\n",
    "\n",
    "with open('./path/train_labels_path.txt', 'r', encoding='utf-8') as f:\n",
    "    train_labels_path = f.read().splitlines()\n",
    "with open('./path/valid_labels_path.txt', 'r', encoding='utf-8') as f:\n",
    "    valid_labels_path = f.read().splitlines()\n",
    "with open('./path/test_labels_path.txt', 'r', encoding='utf-8') as f:\n",
    "    test_labels_path = f.read().splitlines()\n",
    "\n",
    "class_encoding = pd.read_csv('./class_encoding.csv')\n",
    "class_nums = dict(class_encoding[['encoding_name', 'class_num']].values)\n",
    "train_encoding = dict(class_encoding[['car_person', 'encoding_name']].values)\n",
    "test_encoding = dict(class_encoding[['cityscapes', 'encoding_name']].values)"
   ]
  },
  {
   "cell_type": "code",
   "execution_count": null,
   "metadata": {},
   "outputs": [],
   "source": [
    "train_seq = iaa.Sequential([iaa.size.Resize((RESIZE_TARGET, RESIZE_TARGET))])\n",
    "test_seq = iaa.Sequential(\n",
    "    [\n",
    "        iaa.CropToAspectRatio(TRAIN_ASPECT_RATIO, position='right-bottom'),\n",
    "        iaa.size.Resize((RESIZE_TARGET, RESIZE_TARGET))\n",
    "    ]\n",
    ")"
   ]
  },
  {
   "cell_type": "code",
   "execution_count": 9,
   "metadata": {},
   "outputs": [
    {
     "data": {
      "application/vnd.jupyter.widget-view+json": {
       "model_id": "ca6562121b984f10a51d62c37c8d3801",
       "version_major": 2,
       "version_minor": 0
      },
      "text/plain": [
       "  0%|          | 0/406514 [00:00<?, ?it/s]"
      ]
     },
     "metadata": {},
     "output_type": "display_data"
    }
   ],
   "source": [
    "for i in tqdm(range(len(train_imgs_path))):\n",
    "    img_path = train_imgs_path[i]\n",
    "    label_path = train_labels_path[i]\n",
    "    img_path_obj = Path(img_path)\n",
    "    label_path_obj = Path(label_path)\n",
    "    dst_img = (Path(*img_path_obj.parts[:3]) / 'images').joinpath(*img_path_obj.parts[3:]).with_suffix('.jpg')\n",
    "    dst_label = (Path(*label_path_obj.parts[:3]) / 'labels').joinpath(*label_path_obj.parts[3:]).with_suffix('.txt')\n",
    "    \n",
    "    img = read_kor_path_img(img_path)\n",
    "    if img is not None:\n",
    "        with open(label_path, 'r', encoding='utf-8') as j:\n",
    "            label = json.load(j)\n",
    "            label = label['annotations']\n",
    "        bbs = label2bbs(label, train_encoding, 'car_person')\n",
    "        bbs_on_img = BoundingBoxesOnImage(bbs, shape=img.shape)\n",
    "        resize_img, resize_bbs_on_img = train_seq(image=img, bounding_boxes=bbs_on_img)\n",
    "        resize_bbs_on_img = resize_bbs_on_img.clip_out_of_image()\n",
    "        resize_yolo_instances = [\n",
    "        bb2yolo(bb, resize_bbs_on_img.width, resize_bbs_on_img.height, class_nums) for bb in resize_bbs_on_img\n",
    "        ]\n",
    "        \n",
    "        dst_img.parent.mkdir(parents=True, exist_ok=True)\n",
    "        dst_label.parent.mkdir(parents=True, exist_ok=True)\n",
    "        Image.fromarray(resize_img).save(str(dst_img), format='JPEG', quality=95)\n",
    "        with open(dst_label, 'w', encoding='utf-8') as f:\n",
    "            for instance in resize_yolo_instances:\n",
    "                f.writelines(' '.join([str(x) for x in instance]) + '\\n')"
   ]
  },
  {
   "cell_type": "code",
   "execution_count": 12,
   "metadata": {},
   "outputs": [
    {
     "data": {
      "application/vnd.jupyter.widget-view+json": {
       "model_id": "0f9500336ed84e40bb8b15feed1671b9",
       "version_major": 2,
       "version_minor": 0
      },
      "text/plain": [
       "  0%|          | 0/112771 [00:00<?, ?it/s]"
      ]
     },
     "metadata": {},
     "output_type": "display_data"
    }
   ],
   "source": [
    "for i in tqdm(range(len(valid_imgs_path))):\n",
    "    img_path = valid_imgs_path[i]\n",
    "    label_path = valid_labels_path[i]\n",
    "    img_path_obj = Path(img_path)\n",
    "    label_path_obj = Path(label_path)\n",
    "    dst_img = (Path(*img_path_obj.parts[:3]) / 'images').joinpath(*img_path_obj.parts[3:]).with_suffix('.jpg')\n",
    "    dst_label = (Path(*label_path_obj.parts[:3]) / 'labels').joinpath(*label_path_obj.parts[3:]).with_suffix('.txt')\n",
    "    \n",
    "    img = read_kor_path_img(img_path)\n",
    "    if img is not None:\n",
    "        with open(label_path, 'r', encoding='utf-8') as j:\n",
    "            label = json.load(j)\n",
    "            label = label['annotations']\n",
    "        bbs = label2bbs(label, train_encoding, 'car_person')\n",
    "        bbs_on_img = BoundingBoxesOnImage(bbs, shape=img.shape)\n",
    "        resize_img, resize_bbs_on_img = train_seq(image=img, bounding_boxes=bbs_on_img)\n",
    "        resize_bbs_on_img = resize_bbs_on_img.clip_out_of_image()\n",
    "        resize_yolo_instances = [\n",
    "        bb2yolo(bb, resize_bbs_on_img.width, resize_bbs_on_img.height, class_nums) for bb in resize_bbs_on_img\n",
    "        ]\n",
    "        \n",
    "        dst_img.parent.mkdir(parents=True, exist_ok=True)\n",
    "        dst_label.parent.mkdir(parents=True, exist_ok=True)\n",
    "        Image.fromarray(resize_img).save(str(dst_img), format='JPEG', quality=95)\n",
    "        with open(dst_label, 'w', encoding='utf-8') as f:\n",
    "            for instance in resize_yolo_instances:\n",
    "                f.writelines(' '.join([str(x) for x in instance]) + '\\n')"
   ]
  },
  {
   "cell_type": "code",
   "execution_count": 32,
   "metadata": {},
   "outputs": [
    {
     "data": {
      "application/vnd.jupyter.widget-view+json": {
       "model_id": "2a8c305eb63a402e86decf7ab36e208a",
       "version_major": 2,
       "version_minor": 0
      },
      "text/plain": [
       "  0%|          | 0/500 [00:00<?, ?it/s]"
      ]
     },
     "metadata": {},
     "output_type": "display_data"
    }
   ],
   "source": [
    "for i in tqdm(range(len(test_imgs_path))):\n",
    "    img_path = test_imgs_path[i]\n",
    "    label_path = test_labels_path[i]\n",
    "    img_path_obj = Path(img_path)\n",
    "    label_path_obj = Path(label_path)\n",
    "    label_fname = label_path_obj.stem.replace('gtFine_polygons', 'leftImg8bit') + '.txt'\n",
    "    dst_img = (Path(*img_path_obj.parts[:3]) / 'images').joinpath(*img_path_obj.parts[3:]).with_suffix('.jpg')\n",
    "    dst_label = (Path(*label_path_obj.parts[:3]) / 'labels' / 'leftImg8bit').joinpath(*label_path_obj.parts[4:-1]) / label_fname\n",
    "\n",
    "    img = read_kor_path_img(img_path)\n",
    "    if img is not None:\n",
    "        with open(label_path, 'r', encoding='utf-8') as j:\n",
    "            label = json.load(j)\n",
    "        bbs = label2bbs(label, test_encoding, 'cityscapes')\n",
    "        bbs_on_img = BoundingBoxesOnImage(bbs, shape=img.shape)\n",
    "        resize_img, resize_bbs_on_img = test_seq(image=img, bounding_boxes=bbs_on_img)\n",
    "        resize_bbs_on_img = resize_bbs_on_img.clip_out_of_image()\n",
    "        resize_yolo_instances = [\n",
    "        bb2yolo(bb, resize_bbs_on_img.width, resize_bbs_on_img.height, class_nums) for bb in resize_bbs_on_img\n",
    "        ]\n",
    "        \n",
    "        dst_img.parent.mkdir(parents=True, exist_ok=True)\n",
    "        dst_label.parent.mkdir(parents=True, exist_ok=True)\n",
    "        Image.fromarray(resize_img).save(str(dst_img), format='JPEG', quality=95)\n",
    "        with open(dst_label, 'w', encoding='utf-8') as f:\n",
    "            for instance in resize_yolo_instances:\n",
    "                f.writelines(' '.join([str(x) for x in instance]) + '\\n')"
   ]
  },
  {
   "cell_type": "code",
   "execution_count": 7,
   "metadata": {},
   "outputs": [],
   "source": [
    "root_resize_train_img = Path(*Path(train_imgs_path[0]).parts[:3]) / 'images' / 'Training'\n",
    "root_resize_train_label = Path(*Path(train_labels_path[0]).parts[:3]) / 'labels' / 'Training'\n",
    "root_resize_valid_img = Path(*Path(valid_imgs_path[0]).parts[:3]) / 'images' / 'Validation'\n",
    "root_resize_valid_label = Path(*Path(valid_labels_path[0]).parts[:3]) / 'labels' / 'Validation'\n",
    "root_resize_test_img = Path(*Path(test_imgs_path[0]).parts[:3]) / 'images'\n",
    "root_resize_test_label = Path(*Path(test_labels_path[0]).parts[:3]) / 'labels'\n",
    "\n",
    "resize_train_imgs_path = list(root_resize_train_img.glob('**/*.jpg'))\n",
    "resize_train_labels_path = list(root_resize_train_label.glob('**/*.txt'))\n",
    "resize_valid_imgs_path = list(root_resize_valid_img.glob('**/*.jpg'))\n",
    "resize_valid_labels_path = list(root_resize_valid_label.glob('**/*.txt'))\n",
    "resize_test_imgs_path = list(root_resize_test_img.glob('**/*.jpg'))\n",
    "resize_test_labels_path = list(root_resize_test_label.glob('**/*.txt'))"
   ]
  },
  {
   "cell_type": "code",
   "execution_count": 11,
   "metadata": {},
   "outputs": [],
   "source": [
    "with open('../path/resize_train_imgs_path.txt', 'w', encoding='utf-8') as f:\n",
    "    f.writelines([str(x)+'\\n' for x in resize_train_imgs_path])\n",
    "with open('../path/resize_valid_imgs_path.txt', 'w', encoding='utf-8') as f:\n",
    "    f.writelines([str(x)+'\\n' for x in resize_valid_imgs_path])\n",
    "with open('../path/resize_test_imgs_path.txt', 'w', encoding='utf-8') as f:\n",
    "    f.writelines([str(x)+'\\n' for x in resize_test_imgs_path])\n",
    "\n",
    "with open('../path/resize_train_labels_path.txt', 'w', encoding='utf-8') as f:\n",
    "    f.writelines([str(x)+'\\n' for x in resize_train_labels_path])\n",
    "with open('../path/resize_valid_labels_path.txt', 'w', encoding='utf-8') as f:\n",
    "    f.writelines([str(x)+'\\n' for x in resize_valid_labels_path])\n",
    "with open('../path/resize_test_labels_path.txt', 'w', encoding='utf-8') as f:\n",
    "    f.writelines([str(x)+'\\n' for x in resize_test_labels_path])"
   ]
  }
 ],
 "metadata": {
  "kernelspec": {
   "display_name": "Python 3.7.9 64-bit",
   "language": "python",
   "name": "python3"
  },
  "language_info": {
   "codemirror_mode": {
    "name": "ipython",
    "version": 3
   },
   "file_extension": ".py",
   "mimetype": "text/x-python",
   "name": "python",
   "nbconvert_exporter": "python",
   "pygments_lexer": "ipython3",
   "version": "3.7.9"
  },
  "orig_nbformat": 4,
  "vscode": {
   "interpreter": {
    "hash": "17793bf86857e08940faab69901cfbfac17fa1a95f24e4dfc70cbec062754ea2"
   }
  }
 },
 "nbformat": 4,
 "nbformat_minor": 2
}
