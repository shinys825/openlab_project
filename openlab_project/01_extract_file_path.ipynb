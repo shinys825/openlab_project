{
 "cells": [
  {
   "cell_type": "code",
   "execution_count": 1,
   "metadata": {},
   "outputs": [],
   "source": [
    "import json\n",
    "from pathlib import Path\n",
    "\n",
    "from utils.config import *"
   ]
  },
  {
   "cell_type": "code",
   "execution_count": 2,
   "metadata": {},
   "outputs": [],
   "source": [
    "train_imgs_path = list(ROOT_TRAIN.glob('**/*.png'))\n",
    "valid_imgs_path = list(ROOT_VALID.glob('**/*.png'))\n",
    "test_imgs_path = list(ROOT_TEST_IMGS.glob('**/*.png'))\n",
    "\n",
    "train_labels_path = list(ROOT_TRAIN.glob('**/*.json'))\n",
    "valid_labels_path = list(ROOT_VALID.glob('**/*.json'))\n",
    "test_labels_path = list(ROOT_TEST_LABELS.glob('**/*.json'))\n",
    "\n",
    "resize_train_imgs_path = list(ROOT_RESIZE_TRAIN_IMAGES.glob('**/*.jpg'))\n",
    "resize_valid_imgs_path = list(ROOT_RESIZE_VALID_IMAGES.glob('**/*.jpg'))\n",
    "resize_train_labels_path = list(ROOT_RESIZE_TRAIN_LABELS.glob('**/*.txt'))\n",
    "resize_valid_labels_path = list(ROOT_RESIZE_VALID_LABELS.glob('**/*.txt'))"
   ]
  },
  {
   "cell_type": "code",
   "execution_count": 8,
   "metadata": {},
   "outputs": [],
   "source": [
    "Path('./path').mkdir(parents=True, exist_ok=True)\n",
    "\n",
    "\n",
    "with open('./path/train_imgs_path.txt', 'w', encoding='utf-8') as f:\n",
    "    f.writelines([str(x)+'\\n' for x in train_imgs_path])\n",
    "with open('./path/valid_imgs_path.txt', 'w', encoding='utf-8') as f:\n",
    "    f.writelines([str(x)+'\\n' for x in valid_imgs_path])\n",
    "with open('./path/test_imgs_path.txt', 'w', encoding='utf-8') as f:\n",
    "    f.writelines([str(x)+'\\n' for x in test_imgs_path])\n",
    "\n",
    "with open('./path/train_labels_path.txt', 'w', encoding='utf-8') as f:\n",
    "    f.writelines([str(x)+'\\n' for x in train_labels_path])\n",
    "with open('./path/valid_labels_path.txt', 'w', encoding='utf-8') as f:\n",
    "    f.writelines([str(x)+'\\n' for x in valid_labels_path])\n",
    "with open('./path/test_labels_path.txt', 'w', encoding='utf-8') as f:\n",
    "    f.writelines([str(x)+'\\n' for x in test_labels_path])\n",
    "    \n",
    "with open('./path/resize_train_imgs_path.txt', 'w', encoding='utf-8') as f:\n",
    "    f.writelines([str(x)+'\\n' for x in resize_train_imgs_path])\n",
    "with open('./path/resize_valid_imgs_path.txt', 'w', encoding='utf-8') as f:\n",
    "    f.writelines([str(x)+'\\n' for x in resize_valid_imgs_path])\n",
    "with open('./path/resize_train_labels_path.txt', 'w', encoding='utf-8') as f:\n",
    "    f.writelines([str(x)+'\\n' for x in resize_train_labels_path])\n",
    "with open('./path/resize_valid_labels_path.txt', 'w', encoding='utf-8') as f:\n",
    "    f.writelines([str(x)+'\\n' for x in resize_valid_labels_path])"
   ]
  }
 ],
 "metadata": {
  "kernelspec": {
   "display_name": "Python 3.7.9 64-bit",
   "language": "python",
   "name": "python3"
  },
  "language_info": {
   "codemirror_mode": {
    "name": "ipython",
    "version": 3
   },
   "file_extension": ".py",
   "mimetype": "text/x-python",
   "name": "python",
   "nbconvert_exporter": "python",
   "pygments_lexer": "ipython3",
   "version": "3.7.9"
  },
  "orig_nbformat": 4,
  "vscode": {
   "interpreter": {
    "hash": "17793bf86857e08940faab69901cfbfac17fa1a95f24e4dfc70cbec062754ea2"
   }
  }
 },
 "nbformat": 4,
 "nbformat_minor": 2
}
